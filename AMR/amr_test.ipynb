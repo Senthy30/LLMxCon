{
 "cells": [
  {
   "cell_type": "code",
   "execution_count": null,
   "metadata": {},
   "outputs": [],
   "source": [
    "import torch \n",
    "import torch_scatter\n",
    "from transition_amr_parser.parse import AMRParser\n",
    "\n",
    "parser = AMRParser.from_pretrained('AMR3-structbart-L')\n",
    "\n",
    "sentences = [\n",
    "    \"All the people crowd together at every farmers' market, happy to sell their goods.\",\n",
    "    \"The sun makes its way through the mountain peaks rising above the mist.\",\n",
    "    \"The dampness of the forest, along with the sounds made by animals, are scaring me a lot!\",\n",
    "    \"The dog runs after its favorite frisbee while its owner is sitting on a bench and reading his favorite magazine.\",\n",
    "    \"It is the first time the little boy manages to ride his new bike, his mother must be so proud of him!\",\n",
    "    \"I remember my grandmother cooking my favorite dishes on every Christmas dinner when I was a child.\",\n",
    "    \"The cold grips the snowy forest, and walking in the forest without hearing the little birds singing again is so weird.\",\n",
    "    \"I remember when my father taught me to swim, we were on a family vacation when he showed me how to swim in the cold waters of the ocean.\"\n",
    "]\n",
    "\n",
    "# can't save plots here in order to use a loop, must be done manually\n",
    "tokens, positions = parser.tokenize(sentences[7])\n",
    "\n",
    "annotations, machines = parser.parse_sentence(tokens)\n",
    "\n",
    "print(annotations)\n",
    "\n",
    "amr = machines.get_amr()\n",
    "print(amr.to_penman(jamr=False, isi=True))\n",
    "\n",
    "\n",
    "amr.plot(figsize=(12,12))\n"
   ]
  },
  {
   "cell_type": "code",
   "execution_count": null,
   "metadata": {},
   "outputs": [],
   "source": [
    "import os\n",
    "from transition_amr_parser.parse import AMRParser\n",
    "\n",
    "parser = AMRParser.from_pretrained('AMR3-structbart-L')\n",
    "\n",
    "input_file = 'llmsentences.txt'  \n",
    "output_dir = 'amr_sentences' \n",
    "\n",
    "os.makedirs(output_dir, exist_ok=True)\n",
    "\n",
    "with open(input_file, 'r') as infile:\n",
    "    for index, line in enumerate(infile, start=1):\n",
    "        sentence = line.strip()  \n",
    "        if not sentence:\n",
    "            continue  \n",
    "        \n",
    "        try:\n",
    "            tokens, positions = parser.tokenize(sentence)\n",
    "            annotations, machines = parser.parse_sentence(tokens)\n",
    "            \n",
    "            amr = machines.get_amr()\n",
    "            amr_penman = amr.to_penman(jamr=False, isi=True)\n",
    "            \n",
    "            output_file = os.path.join(output_dir, f\"sentence_{index}.amr\")\n",
    "            with open(output_file, 'w') as outfile:\n",
    "                # outfile.write(f\"# Sentence: {sentence}\\n\")\n",
    "                outfile.write(amr_penman)\n",
    "            print(f\"Processed: {sentence} -> {output_file}\")\n",
    "        \n",
    "        except Exception as e:\n",
    "            print(f\"Error: {index}: {e}\")\n"
   ]
  }
 ],
 "metadata": {
  "kernelspec": {
   "display_name": "detoate",
   "language": "python",
   "name": "python3"
  },
  "language_info": {
   "name": "python",
   "version": "3.9.20"
  }
 },
 "nbformat": 4,
 "nbformat_minor": 2
}
